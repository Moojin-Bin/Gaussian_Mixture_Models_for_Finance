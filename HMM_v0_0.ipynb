{
  "nbformat": 4,
  "nbformat_minor": 0,
  "metadata": {
    "colab": {
      "name": "HMM_v0_0.ipynb",
      "provenance": [],
      "collapsed_sections": [],
      "authorship_tag": "ABX9TyMoEBR6Edvsinr119VH+fUO",
      "include_colab_link": true
    },
    "kernelspec": {
      "name": "python3",
      "display_name": "Python 3"
    }
  },
  "cells": [
    {
      "cell_type": "markdown",
      "metadata": {
        "id": "view-in-github",
        "colab_type": "text"
      },
      "source": [
        "<a href=\"https://colab.research.google.com/github/Moojin-Bin/Hidden_Markov_Model/blob/master/HMM_v0_0.ipynb\" target=\"_parent\"><img src=\"https://colab.research.google.com/assets/colab-badge.svg\" alt=\"Open In Colab\"/></a>"
      ]
    },
    {
      "cell_type": "code",
      "metadata": {
        "id": "J6-kjsWfvDMw",
        "colab_type": "code",
        "colab": {}
      },
      "source": [
        "import numpy as np\n",
        "import pandas as pd\n",
        "import pandas_datareader as pdr\n",
        "from sklearn import mixture\n",
        "from matplotlib import pyplot as plt"
      ],
      "execution_count": 19,
      "outputs": []
    },
    {
      "cell_type": "code",
      "metadata": {
        "id": "zwNelY0dvf23",
        "colab_type": "code",
        "colab": {}
      },
      "source": [
        "# Data Load\n",
        "df = pdr.DataReader('VIXCLS', \"fred\", '19700101')"
      ],
      "execution_count": 15,
      "outputs": []
    },
    {
      "cell_type": "code",
      "metadata": {
        "id": "MVlkDEFuzmcw",
        "colab_type": "code",
        "colab": {
          "base_uri": "https://localhost:8080/",
          "height": 282
        },
        "outputId": "96156d3e-5f00-44b0-fda3-4b1857b657fe"
      },
      "source": [
        "plt.plot(df)"
      ],
      "execution_count": 21,
      "outputs": [
        {
          "output_type": "execute_result",
          "data": {
            "text/plain": [
              "[<matplotlib.lines.Line2D at 0x7f69e26dbf60>]"
            ]
          },
          "metadata": {
            "tags": []
          },
          "execution_count": 21
        },
        {
          "output_type": "display_data",
          "data": {
            "image/png": "[encoded data removed]",
            "text/plain": [
              "<Figure size 432x288 with 1 Axes>"
            ]
          },
          "metadata": {
            "tags": [],
            "needs_background": "light"
          }
        }
      ]
    },
    {
      "cell_type": "code",
      "metadata": {
        "id": "1zdOPwtez6OV",
        "colab_type": "code",
        "colab": {}
      },
      "source": [
        "begin = '19900101'"
      ],
      "execution_count": 22,
      "outputs": []
    },
    {
      "cell_type": "code",
      "metadata": {
        "id": "RZtLk9XO0Wym",
        "colab_type": "code",
        "colab": {}
      },
      "source": [
        "def df_to_array(df):\n",
        "  temp = np.ravel(df).astype(np.float)\n",
        "  return temp.reshape(-1, 1)"
      ],
      "execution_count": 30,
      "outputs": []
    },
    {
      "cell_type": "code",
      "metadata": {
        "id": "_MCsKfY61LMi",
        "colab_type": "code",
        "colab": {}
      },
      "source": [
        ""
      ],
      "execution_count": null,
      "outputs": []
    },
    {
      "cell_type": "code",
      "metadata": {
        "id": "wc_-o9Vxx-KW",
        "colab_type": "code",
        "colab": {}
      },
      "source": [
        "def HMM(df, begin, n_components):\n",
        "  data = df_to_array(df[begin:].fillna(method='ffill'))\n",
        "\n",
        "  gmm = mixture.GaussianMixture(n_components)\n",
        "  gmm.fit(data)\n",
        "\n",
        "  hidden_states = gmm.predict(data)\n",
        "  hidden_states_prob = gmm.predict_proba(f)\n",
        "\n",
        "  weights = gmm.weights_\n",
        "  means = gmm.means_\n",
        "  covars = gmm.covariances_\n",
        "  \n",
        "  return\n",
        "\n"
      ],
      "execution_count": 25,
      "outputs": []
    },
    {
      "cell_type": "code",
      "metadata": {
        "id": "EBIDb5toyLqw",
        "colab_type": "code",
        "colab": {
          "base_uri": "https://localhost:8080/",
          "height": 140
        },
        "outputId": "f2ad6be9-6822-4a7e-8981-fa5250deb1a8"
      },
      "source": [
        "f.reshape(-1, 1)"
      ],
      "execution_count": 27,
      "outputs": [
        {
          "output_type": "execute_result",
          "data": {
            "text/plain": [
              "array([[17.24],\n",
              "       [18.19],\n",
              "       [19.22],\n",
              "       ...,\n",
              "       [31.37],\n",
              "       [33.84],\n",
              "       [32.22]])"
            ]
          },
          "metadata": {
            "tags": []
          },
          "execution_count": 27
        }
      ]
    },
    {
      "cell_type": "code",
      "metadata": {
        "id": "M6aC9Z5IyNyS",
        "colab_type": "code",
        "colab": {
          "base_uri": "https://localhost:8080/",
          "height": 34
        },
        "outputId": "24eec267-42db-4f11-e847-8a8e3979f5ca"
      },
      "source": [
        "type(data)"
      ],
      "execution_count": 29,
      "outputs": [
        {
          "output_type": "execute_result",
          "data": {
            "text/plain": [
              "pandas.core.frame.DataFrame"
            ]
          },
          "metadata": {
            "tags": []
          },
          "execution_count": 29
        }
      ]
    }
  ]
}