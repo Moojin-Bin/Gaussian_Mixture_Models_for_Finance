{
  "nbformat": 4,
  "nbformat_minor": 0,
  "metadata": {
    "colab": {
      "name": "HMM_v0_0.ipynb",
      "provenance": [],
      "collapsed_sections": [],
      "authorship_tag": "ABX9TyNJc+3hCE508fCUc/9Ky+aS",
      "include_colab_link": true
    },
    "kernelspec": {
      "name": "python3",
      "display_name": "Python 3"
    }
  },
  "cells": [
    {
      "cell_type": "markdown",
      "metadata": {
        "id": "view-in-github",
        "colab_type": "text"
      },
      "source": [
        "<a href=\"https://colab.research.google.com/github/Moojin-Bin/Hidden_Markov_Model/blob/master/HMM_v0_0.ipynb\" target=\"_parent\"><img src=\"https://colab.research.google.com/assets/colab-badge.svg\" alt=\"Open In Colab\"/></a>"
      ]
    },
    {
      "cell_type": "markdown",
      "metadata": {
        "id": "nBEfASZlBuQ1",
        "colab_type": "text"
      },
      "source": [
        "Application of Hidden Markov Model for Financial Markets"
      ]
    },
    {
      "cell_type": "code",
      "metadata": {
        "id": "J6-kjsWfvDMw",
        "colab_type": "code",
        "colab": {}
      },
      "source": [
        "import numpy as np\n",
        "import pandas as pd\n",
        "import pandas_datareader as pdr\n",
        "from sklearn import mixture\n",
        "from matplotlib import pyplot as plt"
      ],
      "execution_count": null,
      "outputs": []
    },
    {
      "cell_type": "code",
      "metadata": {
        "id": "RZtLk9XO0Wym",
        "colab_type": "code",
        "colab": {}
      },
      "source": [
        "def df_to_array(df):\n",
        "    array = np.ravel(df).astype(np.float).reshape(-1, 1)\n",
        "    return array"
      ],
      "execution_count": null,
      "outputs": []
    },
    {
      "cell_type": "code",
      "metadata": {
        "id": "wc_-o9Vxx-KW",
        "colab_type": "code",
        "colab": {}
      },
      "source": [
        "def HMM(df, begin, n_components, log=True):\n",
        "\n",
        "    if log == True:\n",
        "        df = np.log(df[begin:].fillna(method='ffill'))\n",
        "    else:\n",
        "        df = df[begin:].fillna(method='ffill')\n",
        "\n",
        "    data = df_to_array(df)\n",
        "\n",
        "    gmm = mixture.GaussianMixture(n_components)\n",
        "    gmm.fit(data)\n",
        "\n",
        "    hidden_states = gmm.predict(data)\n",
        "    hidden_states_prob = gmm.predict_proba(data)\n",
        "\n",
        "    z = {}\n",
        "    stat = {}    # Statistics = {Minimum, Maximum, Mean}\n",
        "    for i in range(n_components):\n",
        "        mask = hidden_states == i\n",
        "        z['Regime_%d' %i] = pd.DataFrame(df.values[mask], index = df.index[mask], columns = ['Regime_%d' %i])\n",
        "        z['Regime_%d' %i] = z['Regime_%d' %i].reindex(df.index, fill_value=np.nan)\n",
        "        stat['Regime_%d_min' %i] = z['Regime_%d' %i].min()\n",
        "        stat['Regime_%d_avg' %i] = z['Regime_%d' %i].mean()\n",
        "        stat['Regime_%d_max' %i] = z['Regime_%d' %i].max()\n",
        "    \n",
        "    hsp = pd.DataFrame(hidden_states_prob, index=df.index, columns = z.keys())    # Hidden States Probability\n",
        "\n",
        "    regimes = list(z.keys())\n",
        "    gmm_res = pd.DataFrame([])\n",
        "    for i in range(n_components):\n",
        "        gmm_res = pd.concat([gmm_res, z[regimes[i]]], axis=1)\n",
        "\n",
        "    if log == True:\n",
        "        gmm_res = np.exp(gmm_res)\n",
        "        stats = np.exp(pd.DataFrame.from_dict(stat, orient='index'))\n",
        "    elif log == False:\n",
        "        stats = pd.DataFrame.from_dict(stat, orient='index')\n",
        "    \n",
        "    return gmm_res, stats, hsp"
      ],
      "execution_count": null,
      "outputs": []
    },
    {
      "cell_type": "code",
      "metadata": {
        "id": "ocxAClM2PiDo",
        "colab_type": "code",
        "colab": {}
      },
      "source": [
        "# Data Load\n",
        "df = pdr.DataReader('VIXCLS', \"fred\", '19700101')"
      ],
      "execution_count": null,
      "outputs": []
    }
  ]
}