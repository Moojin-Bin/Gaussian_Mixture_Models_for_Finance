{
  "nbformat": 4,
  "nbformat_minor": 0,
  "metadata": {
    "colab": {
      "name": "GMM for Finance.ipynb",
      "provenance": [],
      "collapsed_sections": [],
      "authorship_tag": "ABX9TyNzZac5Lx7C/VcW6kaesqqf",
      "include_colab_link": true
    },
    "kernelspec": {
      "name": "python3",
      "display_name": "Python 3"
    }
  },
  "cells": [
    {
      "cell_type": "markdown",
      "metadata": {
        "id": "view-in-github",
        "colab_type": "text"
      },
      "source": [
        "<a href=\"https://colab.research.google.com/github/Moojin-Bin/Hidden_Markov_Model/blob/master/GMM_for_Finance.ipynb\" target=\"_parent\"><img src=\"https://colab.research.google.com/assets/colab-badge.svg\" alt=\"Open In Colab\"/></a>"
      ]
    },
    {
      "cell_type": "markdown",
      "metadata": {
        "id": "nBEfASZlBuQ1",
        "colab_type": "text"
      },
      "source": [
        "an Application of Gaussian Mixture Models for Financial Markets"
      ]
    },
    {
      "cell_type": "code",
      "metadata": {
        "id": "J6-kjsWfvDMw",
        "colab_type": "code",
        "colab": {
          "base_uri": "https://localhost:8080/",
          "height": 52
        },
        "outputId": "5d836ea2-1b81-4f57-c8d7-fdbadf95e2e8"
      },
      "source": [
        "import numpy as np\n",
        "import pandas as pd\n",
        "import pandas_datareader as pdr\n",
        "from sklearn import mixture\n",
        "from matplotlib import pyplot as plt"
      ],
      "execution_count": null,
      "outputs": [
        {
          "output_type": "stream",
          "text": [
            "/usr/local/lib/python3.6/dist-packages/pandas_datareader/compat/__init__.py:7: FutureWarning: pandas.util.testing is deprecated. Use the functions in the public API at pandas.testing instead.\n",
            "  from pandas.util.testing import assert_frame_equal\n"
          ],
          "name": "stderr"
        }
      ]
    },
    {
      "cell_type": "code",
      "metadata": {
        "id": "RZtLk9XO0Wym",
        "colab_type": "code",
        "colab": {}
      },
      "source": [
        "def df_to_array(df):\n",
        "    array = np.ravel(df.dropna()).astype(np.float).reshape(-1, 1)\n",
        "    return array"
      ],
      "execution_count": null,
      "outputs": []
    },
    {
      "cell_type": "code",
      "metadata": {
        "id": "Xmaqtr2d04dA",
        "colab_type": "code",
        "colab": {}
      },
      "source": [
        "def plot_best_fit_mixture(df, max_n_components):\n",
        "    \n",
        "    X = df_to_array(df)\n",
        "    \n",
        "    N = np.arange(1, max_n_components+1)\n",
        "    models = [None]*max_n_components\n",
        "\n",
        "    for i in range(max_n_components):\n",
        "        models[i] = mixture.GaussianMixture(N[i], n_init = 10).fit(X)\n",
        "\n",
        "    AIC = [m.aic(X) for m in models]\n",
        "    BIC = [m.bic(X) for m in models]\n",
        "    M_best = models[min(np.argmin(AIC), np.argmin(BIC))]\n",
        "\n",
        "    fig = plt.figure(figsize = (12, 4))\n",
        "    fig.subplots_adjust(wspace=0.3)\n",
        "\n",
        "    # plot 1: Information Critetion\n",
        "    ax = fig.add_subplot(131)\n",
        "    ax.plot(N, AIC, '-k', label = 'AIC')\n",
        "    ax.plot(N, BIC, '--k', label = 'BIC')\n",
        "    ax.set_title('Theoretical Information Criterion')\n",
        "    ax.set_xlabel('n. components')\n",
        "    ax.set_ylabel('information criterion')\n",
        "    ax.legend()\n",
        "\n",
        "\n",
        "    # plot 2: Histogram and best-fit mixture\n",
        "    ax = fig.add_subplot(132)\n",
        "\n",
        "    x_min = X.min() - 0.2\n",
        "    x_max = X.max() + 0.2\n",
        "    x = np.linspace(x_min, x_max, 1000)\n",
        "    logprob = M_best.score_samples(x.reshape(-1, 1))    # Compute the weighted log probabilities for each sample.\n",
        "    responsibilities = M_best.predict_proba(x.reshape(-1, 1))    # Predict posterior probability of each component given the data.\n",
        "    pdf = np.exp(logprob)    # probability density function, it can have a value greater than 1.\n",
        "    pdf_individual = responsibilities * pdf[:, np.newaxis]\n",
        "\n",
        "    ax.hist(X, 30, density=True, histtype='stepfilled', alpha=0.4)\n",
        "    ax.plot(x, pdf, '-k')\n",
        "    ax.plot(x, pdf_individual, '--k')\n",
        "    ax.set_title(\"Best-fit Mixture\")\n",
        "    ax.set_xlabel('$x$')\n",
        "    ax.set_ylabel('$p(x)$')\n",
        "\n",
        "\n",
        "    # plot 3: Posterior probabilities for each component\n",
        "    ax = fig.add_subplot(133)\n",
        "\n",
        "    best_fit_n_components = M_best.n_components\n",
        "    p = responsibilities\n",
        "    p = p.cumsum(1).T\n",
        "\n",
        "    for i in range(best_fit_n_components):\n",
        "        if i == 0:\n",
        "            ax.fill_between(x, 0, p[i], color='gray', alpha = 1/best_fit_n_components)\n",
        "        else:\n",
        "            ax.fill_between(x, p[i-1], p[i], color='gray', alpha = (1+i)/best_fit_n_components)\n",
        "    ax.set_xlim(x_min, x_max)\n",
        "    ax.set_ylim(0, 1)\n",
        "    ax.set_title('Posterior Probabilities')\n",
        "    ax.set_xlabel('$x$')\n",
        "    ax.set_ylabel(r'$p({\\rm class}|x)$')"
      ],
      "execution_count": null,
      "outputs": []
    },
    {
      "cell_type": "code",
      "metadata": {
        "id": "wc_-o9Vxx-KW",
        "colab_type": "code",
        "colab": {}
      },
      "source": [
        "def GMM(df, begin, n_components):\n",
        "    \n",
        "    df = df[begin:].fillna(method='ffill')\n",
        "\n",
        "    data = df_to_array(df)\n",
        "\n",
        "    gmm = mixture.GaussianMixture(n_components)\n",
        "    gmm.fit(data)\n",
        "\n",
        "    hidden_states = gmm.predict(data)\n",
        "    hidden_states_prob = gmm.predict_proba(data)\n",
        "\n",
        "    z = {}\n",
        "    stat = {}    # Statistics = {Minimum, Maximum, Mean}\n",
        "    for i in range(n_components):\n",
        "        mask = hidden_states == i\n",
        "        z['Regime_%d' %i] = pd.DataFrame(df.values[mask], index = df.index[mask], columns = ['Regime_%d' %i])\n",
        "        z['Regime_%d' %i] = z['Regime_%d' %i].reindex(df.index, fill_value=np.nan)\n",
        "        stat['Regime_%d_min' %i] = z['Regime_%d' %i].min()\n",
        "        stat['Regime_%d_avg' %i] = z['Regime_%d' %i].mean()\n",
        "        stat['Regime_%d_max' %i] = z['Regime_%d' %i].max()\n",
        "    \n",
        "    hsp = pd.DataFrame(hidden_states_prob, index=df.index, columns = z.keys())    # Hidden States Probability\n",
        "\n",
        "    regimes = list(z.keys())\n",
        "    gmm_res = pd.DataFrame([])\n",
        "    for i in range(n_components):\n",
        "        gmm_res = pd.concat([gmm_res, z[regimes[i]]], axis=1)\n",
        "\n",
        "    stats = pd.DataFrame.from_dict(stat, orient='index')\n",
        "    \n",
        "    return gmm_res, stats, hsp\n"
      ],
      "execution_count": null,
      "outputs": []
    },
    {
      "cell_type": "code",
      "metadata": {
        "id": "BlZFwb0gmgVQ",
        "colab_type": "code",
        "colab": {}
      },
      "source": [
        "df = pdr.DataReader('VIXCLS', \"fred\", '19700101')"
      ],
      "execution_count": null,
      "outputs": []
    },
    {
      "cell_type": "code",
      "metadata": {
        "id": "I3iVnXngxp2f",
        "colab_type": "code",
        "colab": {}
      },
      "source": [
        "    "
      ],
      "execution_count": null,
      "outputs": []
    }
  ]
}